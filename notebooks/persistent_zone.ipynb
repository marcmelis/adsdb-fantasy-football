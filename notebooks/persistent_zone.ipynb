{
 "cells": [
  {
   "cell_type": "code",
   "execution_count": 1,
   "metadata": {
    "executionInfo": {
     "elapsed": 319,
     "status": "ok",
     "timestamp": 1695395572527,
     "user": {
      "displayName": "Jóhannes Kári Sólmundarson",
      "userId": "02112520004222428138"
     },
     "user_tz": 0
    },
    "id": "nv_N9Z1yTM1P"
   },
   "outputs": [],
   "source": [
    "import os\n",
    "import glob\n",
    "from datetime import date\n",
    "import json"
   ]
  },
  {
   "cell_type": "code",
   "execution_count": 2,
   "metadata": {},
   "outputs": [],
   "source": [
    "os.chdir('../data/landing/temporal')"
   ]
  },
  {
   "cell_type": "code",
   "execution_count": 3,
   "metadata": {},
   "outputs": [],
   "source": [
    "with open('../../../notebooks/metadata_dictionary.json') as f:\n",
    "    datasets = json.load(f)"
   ]
  },
  {
   "cell_type": "code",
   "execution_count": null,
   "metadata": {
    "colab": {
     "base_uri": "https://localhost:8080/"
    },
    "executionInfo": {
     "elapsed": 276,
     "status": "ok",
     "timestamp": 1695395582214,
     "user": {
      "displayName": "Jóhannes Kári Sólmundarson",
      "userId": "02112520004222428138"
     },
     "user_tz": 0
    },
    "id": "LoRt6-_HTP6e",
    "outputId": "bb56f012-96c8-465d-f177-afa8dfbad663"
   },
   "outputs": [],
   "source": [
    "for filename in glob.glob('*.*'):\n",
    "  nested_dir = None\n",
    "  for dataset in datasets:\n",
    "    if dataset[\"standard_data_name\"] in filename:\n",
    "      nested_dir = dataset[\"standard_data_name\"]\n",
    "  \n",
    "  if nested_dir is None: \n",
    "    print(f\"Did not recognize dataset {filename}. Add to metadata_dictionary\")\n",
    "    continue\n",
    "  print(f\"Moving {filename}\")\n",
    "  filebase, fileextension = filename.split(\".\")\n",
    "  os.rename(os.path.join(os.getcwd(), filename),\n",
    "            os.path.join(os.getcwd(), '../persistent/', nested_dir, f'{filebase}_{date.today()}.{fileextension}'))"
   ]
  },
  {
   "cell_type": "code",
   "execution_count": null,
   "metadata": {},
   "outputs": [],
   "source": []
  }
 ],
 "metadata": {
  "colab": {
   "authorship_tag": "ABX9TyMmB2hmACKDUPnw5aulpATn",
   "provenance": []
  },
  "kernelspec": {
   "display_name": "Python 3 (ipykernel)",
   "language": "python",
   "name": "python3"
  },
  "language_info": {
   "codemirror_mode": {
    "name": "ipython",
    "version": 3
   },
   "file_extension": ".py",
   "mimetype": "text/x-python",
   "name": "python",
   "nbconvert_exporter": "python",
   "pygments_lexer": "ipython3",
   "version": "3.11.6"
  }
 },
 "nbformat": 4,
 "nbformat_minor": 1
}
