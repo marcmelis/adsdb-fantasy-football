{
 "cells": [
  {
   "cell_type": "code",
   "execution_count": 1,
   "metadata": {},
   "outputs": [],
   "source": [
    "# packages\n",
    "import pandas as pd\n",
    "import os\n",
    "import re\n",
    "import duckdb "
   ]
  },
  {
   "cell_type": "code",
   "execution_count": 2,
   "metadata": {},
   "outputs": [],
   "source": [
    "formatted_zone_db = '../data/formatted_zone/formatted_zone.db'\n",
    "trusted_zone_db = '../data/trusted_zone/trusted_zone.db'"
   ]
  },
  {
   "cell_type": "code",
   "execution_count": 34,
   "metadata": {},
   "outputs": [],
   "source": [
    "def get_tables(conn):\n",
    "    tables_lists = conn.sql(\"SHOW TABLES\").fetchall()\n",
    "    return [t[0] for t in tables_lists]\n",
    "\n",
    "def table_exists(table_name, conn):\n",
    "    return table_name in get_tables(conn)\n",
    "\n",
    "def get_table_df(table_name, conn):\n",
    "    return conn.sql(f\"SELECT * FROM \\\"{table_name}\\\";\").df()\n",
    "\n",
    "def drop_table(table_name, conn):\n",
    "    if table_exists(table_name, conn):\n",
    "        conn.sql(f\"DROP TABLE \\\"{table_name}\\\"\")\n",
    "    \n",
    "def create_table(table_name, df, conn, replace=True):\n",
    "    if replace & table_exists(table_name, conn): \n",
    "        drop_table(table_name, conn)\n",
    "    conn.sql(f\"CREATE TABLE \\\"{table_name}\\\" AS SELECT * FROM df\")\n",
    "\n",
    "def append_table(table_name, df, conn):\n",
    "    conn.sql(f\"INSERT INTO \\\"{table_name}\\\" SELECT * FROM df\")"
   ]
  },
  {
   "cell_type": "code",
   "execution_count": 4,
   "metadata": {},
   "outputs": [],
   "source": [
    "# Gets the file with the last date, \n",
    "# ex: for filename=cleaned_merged_seasons would return cleaned_merged_seasons_2023-09-22.csv\n",
    "from datetime import datetime\n",
    "def get_last_table(table_names, fileformat=\"csv\"):\n",
    "    format_str = \"%Y-%m-%d\"  # Date format\n",
    "    most_recent_file = max(\n",
    "        table_names, \n",
    "        key=lambda f: datetime.strptime(f[-len(\"yyyy-MM-dd\"):], format_str)\n",
    "    )\n",
    "    return most_recent_file"
   ]
  },
  {
   "cell_type": "code",
   "execution_count": 5,
   "metadata": {},
   "outputs": [],
   "source": [
    "# get all the tables in the formatted zone\n",
    "conn = duckdb.connect(formatted_zone_db)\n",
    "formatted_zone_tables = get_tables(conn)"
   ]
  },
  {
   "cell_type": "code",
   "execution_count": 29,
   "metadata": {},
   "outputs": [],
   "source": [
    "trusted_zone_table = 'cleaned_merged_seasons'\n",
    "cleaned_merged_seasons_tables = filter(lambda x: x.startswith(trusted_zone_table), formatted_zone_tables)\n",
    "# the data from all seasons is all in one table so we only need to find the latest version of the table\n",
    "latest_table_name = get_last_table(cleaned_merged_seasons_tables)\n",
    "conn = duckdb.connect(formatted_zone_db)\n",
    "df = get_table_df(latest_table_name, conn)\n",
    "conn.close()\n",
    "# do some data quality checks, i think?\n",
    "\n",
    "conn = duckdb.connect(trusted_zone_db)\n",
    "create_table(trusted_zone_table, df, conn)"
   ]
  },
  {
   "cell_type": "code",
   "execution_count": 30,
   "metadata": {},
   "outputs": [],
   "source": [
    "trusted_zone_table = 'master_team_list'\n",
    "master_team_list_tables = filter(lambda x: x.startswith(trusted_zone_table), formatted_zone_tables)\n",
    "# same with master_team_list\n",
    "latest_table_name = get_last_table(master_team_list_tables)\n",
    "conn = duckdb.connect(formatted_zone_db)\n",
    "df = get_table_df(latest_table_name, conn)\n",
    "conn.close()\n",
    "# do some data quality checks, i think?\n",
    "\n",
    "conn = duckdb.connect(trusted_zone_db)\n",
    "create_table(trusted_zone_table, df, conn)"
   ]
  },
  {
   "cell_type": "code",
   "execution_count": 33,
   "metadata": {},
   "outputs": [
    {
     "data": {
      "text/plain": [
       "['cleaned_merged_seasons', 'master_team_list']"
      ]
     },
     "execution_count": 33,
     "metadata": {},
     "output_type": "execute_result"
    }
   ],
   "source": [
    "conn = duckdb.connect(trusted_zone_db)\n",
    "get_tables(conn)"
   ]
  },
  {
   "cell_type": "code",
   "execution_count": 36,
   "metadata": {},
   "outputs": [],
   "source": [
    "trusted_zone_table = 'football-data'\n",
    "football_data_tables = list(filter(lambda x: x.startswith(trusted_zone_table), formatted_zone_tables))\n",
    "# TEST football_data_tables = ['football-data_2223_2024-01-01', 'football-data_2223_2023-12-31', 'football-data_2223_2024-02-16', 'football-data_2324_2025-02-03', 'football-data_2324_2025-06-07']\n",
    "# the football-data has a table per season, denoted by football-data_yyYY\n",
    "# group all tables for the same season \n",
    "unique_seasons = list(set([t[:-len(\"_yyyy-MM-dd\")] for t in football_data_tables]))\n",
    "\n",
    "# drop table first\n",
    "trusted_conn = duckdb.connect(trusted_zone_db)\n",
    "drop_table(trusted_zone_table, trusted_conn)\n",
    "\n",
    "for season in unique_seasons: \n",
    "    season_tables = filter(lambda x: x.startswith(season), football_data_tables)\n",
    "    # pick the newest table for the season\n",
    "    latest_table_name = get_last_table(season_tables)\n",
    "    \n",
    "    # retrieve the formatted zone df\n",
    "    formatted_conn = duckdb.connect(formatted_zone_db)\n",
    "    df = get_table_df(latest_table_name, formatted_conn)\n",
    "    formatted_conn.close()\n",
    "\n",
    "    # append all selected tables to a trusted zone df \n",
    "    if table_exists(trusted_zone_table, trusted_conn):\n",
    "        append_table(trusted_zone_table, df, trusted_conn)\n",
    "    else:\n",
    "        create_table(trusted_zone_table, df, trusted_conn)\n",
    "\n",
    "trusted_conn.close()"
   ]
  },
  {
   "cell_type": "code",
   "execution_count": null,
   "metadata": {},
   "outputs": [],
   "source": [
    "trusted_zone_table = 'Metoffice'\n",
    "metoffice_tables = list(filter(lambda x: x.startswith(trusted_zone_table), formatted_zone_tables))\n",
    "# group all tables for the same month\n",
    "unique_met_months = list(set([t[:-len(\"_yyyy-MM-dd\")] for t in metoffice_tables]))\n",
    "\n",
    "\n",
    "trusted_conn = duckdb.connect(trusted_zone_db)\n",
    "drop_table(trusted_zone_table, trusted_conn)\n",
    "\n",
    "for month in unique_met_months: \n",
    "    month_tables = filter(lambda x: x.startswith(month), metoffice_tables)\n",
    "\n",
    "    # pick the newest table for the season\n",
    "    latest_table_name = get_last_table(month_tables)\n",
    "    \n",
    "    formated_conn = duckdb.connect(formatted_zone_db)\n",
    "    df = get_table_df(latest_table_name,formated_conn)\n",
    "    formated_conn.close()\n",
    "    # append all selected tables to a trusted zone df \n",
    "    if table_exists(trusted_zone_table, trusted_conn):\n",
    "        append_table(trusted_zone_table, df, trusted_conn)\n",
    "    else:\n",
    "        create_table(trusted_zone_table, df, trusted_conn)\n",
    "    \n",
    "    df.to_sql(trusted_zone_table, trusted_zone_conn, if_exists='append')\n",
    "\n",
    "trusted_zone_conn.close()"
   ]
  },
  {
   "cell_type": "code",
   "execution_count": null,
   "metadata": {},
   "outputs": [],
   "source": []
  }
 ],
 "metadata": {
  "kernelspec": {
   "display_name": "pythonlocal",
   "language": "python",
   "name": "pythonlocal"
  },
  "language_info": {
   "codemirror_mode": {
    "name": "ipython",
    "version": 3
   },
   "file_extension": ".py",
   "mimetype": "text/x-python",
   "name": "python",
   "nbconvert_exporter": "python",
   "pygments_lexer": "ipython3",
   "version": "3.11.6"
  }
 },
 "nbformat": 4,
 "nbformat_minor": 2
}
