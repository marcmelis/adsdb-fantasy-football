{
 "cells": [
  {
   "cell_type": "code",
   "execution_count": 4,
   "metadata": {},
   "outputs": [],
   "source": [
    "# packages\n",
    "import pandas as pd\n",
    "import os\n",
    "import re\n",
    "import sqlite3"
   ]
  },
  {
   "cell_type": "code",
   "execution_count": 19,
   "metadata": {},
   "outputs": [],
   "source": [
    "# Gets the file with the last date, \n",
    "# ex: for filename=cleaned_merged_seasons would return cleaned_merged_seasons_2023-09-22.csv\n",
    "from datetime import datetime\n",
    "def get_last_table(table_names, fileformat=\"csv\"):\n",
    "    format_str = \"%Y-%m-%d\"  # Date format\n",
    "    most_recent_file = max(\n",
    "        table_names, \n",
    "        key=lambda f: datetime.strptime(f[-len(\"yyyy-MM-dd\"):], format_str)\n",
    "    )\n",
    "    return most_recent_file"
   ]
  },
  {
   "cell_type": "code",
   "execution_count": 3,
   "metadata": {},
   "outputs": [],
   "source": [
    "data_path=\"../data/landing/persistent/*\"\n",
    "# TODO add some check that the file in persistent has not been converted into a table\n",
    "# connect to the formatted zone database\n",
    "trusted_conn = sqlite3.connect('../data/formatted_zone/trusted_zone.db')\n",
    "\n",
    "# CHECK THE TABLES ON THE DB\n",
    "conn = sqlite3.connect('../data/formatted_zone/formatted_zone.db')\n",
    "trusted_conn.close()\n",
    "conn.close()"
   ]
  },
  {
   "cell_type": "code",
   "execution_count": 20,
   "metadata": {},
   "outputs": [],
   "source": [
    "conn = sqlite3.connect('../data/formatted_zone/formatted_zone.db')\n",
    "c = conn.cursor()\n",
    "c.execute(\"SELECT name FROM sqlite_master WHERE type='table';\")\n",
    "formatted_zone_tables = c.fetchall()\n",
    "formatted_zone_tables = [t[0] for t in formatted_zone_tables]\n",
    "conn.close()"
   ]
  },
  {
   "cell_type": "code",
   "execution_count": 22,
   "metadata": {},
   "outputs": [
    {
     "name": "stdout",
     "output_type": "stream",
     "text": [
      "cleaned_merged_seasons_2023-10-13\n"
     ]
    }
   ],
   "source": [
    "cleaned_merged_seasons_tables = filter(lambda x: x.startswith('cleaned_merged_seasons'), formatted_zone_tables)\n",
    "# the data from all seasons is all in one table so we only need to find the latest version of the table\n",
    "print(get_last_table(cleaned_merged_seasons_tables))\n"
   ]
  },
  {
   "cell_type": "code",
   "execution_count": 24,
   "metadata": {},
   "outputs": [
    {
     "name": "stdout",
     "output_type": "stream",
     "text": [
      "master_team_list_2023-10-13\n"
     ]
    }
   ],
   "source": [
    "master_team_list_tables = filter(lambda x: x.startswith('master_team_list'), formatted_zone_tables)\n",
    "# same with master_team_list\n",
    "print(get_last_table(master_team_list_tables))"
   ]
  },
  {
   "cell_type": "code",
   "execution_count": 55,
   "metadata": {},
   "outputs": [
    {
     "name": "stdout",
     "output_type": "stream",
     "text": [
      "football-data_2223_2023-10-13\n"
     ]
    }
   ],
   "source": [
    "football_data_tables = list(filter(lambda x: x.startswith('football-data'), formatted_zone_tables))\n",
    "# TEST football_data_tables = ['football-data_2223_2024-01-01', 'football-data_2223_2023-12-31', 'football-data_2223_2024-02-16', 'football-data_2324_2025-02-03', 'football-data_2324_2025-06-07']\n",
    "# the football-data has a table per season, denoted by football-data_yyYY\n",
    "# group all tables for the same season \n",
    "unique_seasons = list(set([t[:-len(\"_yyyy-MM-dd\")] for t in football_data_tables]))\n",
    "for season in unique_seasons: \n",
    "    season_tables = filter(lambda x: x.startswith(season), football_data_tables)\n",
    "    # pick the newest table for the season\n",
    "    print(get_last_table(season_tables))\n",
    "    # append all selected tables to a trusted zone df "
   ]
  },
  {
   "cell_type": "code",
   "execution_count": 56,
   "metadata": {},
   "outputs": [
    {
     "name": "stdout",
     "output_type": "stream",
     "text": [
      "Metoffice_02_22_2023-10-13\n",
      "Metoffice_03_23_2023-10-13\n",
      "Metoffice_12_22_2023-10-13\n",
      "Metoffice_05_23_2023-10-13\n",
      "Metoffice_06_22_2023-10-13\n",
      "Metoffice_08_22_2023-10-13\n",
      "Metoffice_08_23_2023-10-13\n",
      "Metoffice_04_23_2023-10-13\n",
      "Metoffice_09_22_2023-10-13\n",
      "Metoffice_01_23_2023-10-13\n",
      "Metoffice_01_22_2023-10-13\n",
      "Metoffice_03_22_2023-10-13\n",
      "Metoffice_04_22_2023-10-13\n",
      "Metoffice_07_23_2023-10-13\n",
      "Metoffice_11_22_2023-10-13\n",
      "Metoffice_05_22_2023-10-13\n",
      "Metoffice_10_22_2023-10-13\n",
      "Metoffice_06_23_2023-10-13\n",
      "Metoffice_07_22_2023-10-13\n",
      "Metoffice_02_23_2023-10-13\n"
     ]
    }
   ],
   "source": [
    "metoffice_tables = list(filter(lambda x: x.startswith('Metoffice'), formatted_zone_tables))\n",
    "# group all tables for the same month\n",
    "unique_met_months = list(set([t[:-len(\"_yyyy-MM-dd\")] for t in metoffice_tables]))\n",
    "for month in unique_met_months: \n",
    "    month_tables = filter(lambda x: x.startswith(month), metoffice_tables)\n",
    "\n",
    "    # pick the newest table for the season\n",
    "    print(get_last_table(month_tables))\n",
    "    # append all selected tables to a trusted zone df "
   ]
  },
  {
   "cell_type": "code",
   "execution_count": null,
   "metadata": {},
   "outputs": [],
   "source": []
  }
 ],
 "metadata": {
  "kernelspec": {
   "display_name": "Python 3",
   "language": "python",
   "name": "python3"
  },
  "language_info": {
   "codemirror_mode": {
    "name": "ipython",
    "version": 3
   },
   "file_extension": ".py",
   "mimetype": "text/x-python",
   "name": "python",
   "nbconvert_exporter": "python",
   "pygments_lexer": "ipython3",
   "version": "3.11.6"
  }
 },
 "nbformat": 4,
 "nbformat_minor": 2
}
