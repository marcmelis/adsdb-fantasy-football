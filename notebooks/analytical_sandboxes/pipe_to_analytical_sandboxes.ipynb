{
 "cells": [
  {
   "cell_type": "code",
   "execution_count": 1,
   "id": "d5d3d608",
   "metadata": {},
   "outputs": [],
   "source": [
    "import os\n",
    "import sys\n",
    "sys.path.append('../')\n",
    "os.chdir('../')"
   ]
  },
  {
   "cell_type": "code",
   "execution_count": null,
   "id": "a304d8c5",
   "metadata": {},
   "outputs": [],
   "source": [
    "import duckdb \n",
    "import pandas as pd\n",
    "import duck_db_helper"
   ]
  },
  {
   "cell_type": "code",
   "execution_count": null,
   "id": "368814ef",
   "metadata": {},
   "outputs": [],
   "source": [
    "pd.set_option('display.max_columns', None)\n",
    "pd.set_option('display.width', 500)\n",
    "conn = duckdb.connect('../data/exploitation_zone/exploitation_zone.db')\n",
    "tables = duck_db_helper.get_tables(conn)\n",
    "df_list = []\n",
    "df_list_names = []\n",
    "for table_name in tables: \n",
    "    df = conn.sql(f\"SELECT * FROM \\\"{table_name}\\\";\").df()\n",
    "    df_list.append(df)\n",
    "    df_list_names.append(table_name)\n",
    "conn.close()"
   ]
  },
  {
   "cell_type": "code",
   "execution_count": null,
   "id": "83ae0e6d",
   "metadata": {},
   "outputs": [],
   "source": [
    "df_list_names"
   ]
  },
  {
   "cell_type": "code",
   "execution_count": null,
   "id": "5e908434",
   "metadata": {},
   "outputs": [],
   "source": [
    "dff = df_list[0] # Matches\n",
    "dfp = df_list[1] # Players  "
   ]
  },
  {
   "cell_type": "code",
   "execution_count": null,
   "id": "1a3b61f3",
   "metadata": {},
   "outputs": [],
   "source": [
    "dff"
   ]
  },
  {
   "cell_type": "code",
   "execution_count": null,
   "id": "95b0bed6",
   "metadata": {},
   "outputs": [],
   "source": [
    "dfp"
   ]
  },
  {
   "cell_type": "markdown",
   "id": "a8647150",
   "metadata": {},
   "source": [
    "# Join the matches and football players tables\n",
    "Now we merge the matches data into each football player statistics on that match"
   ]
  },
  {
   "cell_type": "code",
   "execution_count": null,
   "id": "6cdaa2b2",
   "metadata": {},
   "outputs": [],
   "source": [
    "dfr_home = pd.merge(dfp, dff, left_on=['team_x', 'match_date'], right_on=['HomeTeam', 'Date'], how='inner')\n",
    "dfr_away = pd.merge(dfp, dff, left_on=['team_x', 'match_date'], right_on=['AwayTeam', 'Date'], how='inner')"
   ]
  },
  {
   "cell_type": "code",
   "execution_count": null,
   "id": "6c2fae8a",
   "metadata": {},
   "outputs": [],
   "source": [
    "dfr = pd.concat([dfr_home, dfr_away], ignore_index=True)"
   ]
  },
  {
   "cell_type": "markdown",
   "id": "dbd91804",
   "metadata": {},
   "source": [
    "# Project only the wanted columns for the analysis\n",
    "\n",
    "First we filter all unused columns that are or redundant or don't have any real value for analysis. We also remove all the betting odds and just keep an average (that was calculated in previous steps). "
   ]
  },
  {
   "cell_type": "code",
   "execution_count": null,
   "id": "64bdd1da",
   "metadata": {},
   "outputs": [],
   "source": [
    "unused_cols = ['match_date', 'fixture', 'kickoff_time','transfers_balance','transfers_in','transfers_out',\n",
    "               'Div','Date','Time','HomeTeam', 'AwayTeam', 'HTHG', 'HTAG', 'HTR', 'Referee',\n",
    "               'HS', 'AS', 'HST', 'AST', 'HF', 'AF', 'HC', 'AC', 'HY', 'AY', 'HR', 'AR',\n",
    "                ]\n",
    "\n",
    "# Check if they exists before droping\n",
    "unused_cols = [col for col in unused_cols if col in dfr.columns]\n",
    "dfr = dfr.drop(unused_cols, axis=1)\n",
    "\n",
    "unused_betting_odds = ['B365H', 'B365D', 'B365A', 'BWH', 'BWD', 'BWA', 'IWH', 'IWD', 'IWA', 'PSH', \n",
    "                        'PSD', 'PSA', 'WHH', 'WHD', 'WHA', 'VCH', 'VCD', 'VCA', 'MaxH', 'MaxD', 'MaxA',\n",
    "                        'B365>2.5', 'B365<2.5', 'P>2.5', 'P<2.5', 'Max>2.5', 'Max<2.5', \n",
    "                        'Avg>2.5', 'Avg<2.5', 'AHh', 'B365AHH', 'B365AHA', 'PAHH', 'PAHA', \n",
    "                        'MaxAHH', 'MaxAHA', 'AvgAHH', 'AvgAHA', 'B365CH', 'B365CD', 'B365CA', \n",
    "                        'BWCH', 'BWCD', 'BWCA', 'IWCH', 'IWCD', 'IWCA', 'PSCH', 'PSCD', 'PSCA', \n",
    "                        'WHCH', 'WHCD', 'WHCA', 'VCCH', 'VCCD', 'VCCA', 'MaxCH', 'MaxCD', 'MaxCA', \n",
    "                        'AvgCH', 'AvgCD', 'AvgCA', 'B365C>2.5', 'B365C<2.5', 'PC>2.5', 'PC<2.5', \n",
    "                        'MaxC>2.5', 'MaxC<2.5', 'AvgC>2.5', 'AvgC<2.5', 'AHCh', 'B365CAHH', 'B365CAHA', \n",
    "                        'PCAHH', 'PCAHA', 'MaxCAHH', 'MaxCAHA', 'AvgCAHH', 'AvgCAHA'\n",
    "                        ]\n",
    "unused_betting_odds = [col for col in unused_betting_odds if col in dfr.columns]\n",
    "dfr = dfr.drop(unused_betting_odds, axis=1)\n"
   ]
  },
  {
   "cell_type": "code",
   "execution_count": null,
   "id": "0e53f85b",
   "metadata": {},
   "outputs": [],
   "source": [
    "dfr"
   ]
  },
  {
   "cell_type": "markdown",
   "id": "1d2ba598",
   "metadata": {},
   "source": [
    "# Select the valid players\n",
    "\n",
    "We are going to only select the players that have played at least 10 minutes in 10 matches for this analysis."
   ]
  },
  {
   "cell_type": "code",
   "execution_count": null,
   "id": "86264821",
   "metadata": {},
   "outputs": [],
   "source": [
    "dfr_10 = dfr[dfr['minutes'] >= 10]\n",
    "dfr_10"
   ]
  },
  {
   "cell_type": "code",
   "execution_count": null,
   "id": "077ae249",
   "metadata": {},
   "outputs": [],
   "source": [
    "name_counts = dfr_10.groupby('name').size()\n",
    "at_least_10_games = name_counts[name_counts >= 10]"
   ]
  },
  {
   "cell_type": "code",
   "execution_count": null,
   "id": "90da546b",
   "metadata": {},
   "outputs": [],
   "source": [
    "wanted_players = at_least_10_games.index.to_list()\n",
    "dfr_only_wanted_players = dfr[dfr['name'].isin(wanted_players)]"
   ]
  },
  {
   "cell_type": "code",
   "execution_count": null,
   "id": "89d72ecc",
   "metadata": {},
   "outputs": [],
   "source": [
    "dfr_only_wanted_players"
   ]
  },
  {
   "cell_type": "code",
   "execution_count": null,
   "id": "83c03e3d",
   "metadata": {},
   "outputs": [],
   "source": [
    "dfr_only_wanted_players.to_pickle('../data/analytical_sandboxes/analytical_sandbox.pkl')"
   ]
  },
  {
   "cell_type": "code",
   "execution_count": null,
   "id": "fa761e1d",
   "metadata": {},
   "outputs": [],
   "source": [
    "dfr_only_wanted_players.to_csv('../data/analytical_sandboxes/analytical_sandbox.csv', index=False)"
   ]
  },
  {
   "cell_type": "code",
   "execution_count": null,
   "id": "6a90b530",
   "metadata": {},
   "outputs": [],
   "source": []
  }
 ],
 "metadata": {
  "kernelspec": {
   "display_name": "pythonlocal",
   "language": "python",
   "name": "pythonlocal"
  },
  "language_info": {
   "codemirror_mode": {
    "name": "ipython",
    "version": 3
   },
   "file_extension": ".py",
   "mimetype": "text/x-python",
   "name": "python",
   "nbconvert_exporter": "python",
   "pygments_lexer": "ipython3",
   "version": "3.11.6"
  }
 },
 "nbformat": 4,
 "nbformat_minor": 5
}
