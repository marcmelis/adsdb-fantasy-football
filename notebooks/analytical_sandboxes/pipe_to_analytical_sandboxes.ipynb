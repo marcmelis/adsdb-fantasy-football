{
 "cells": [
  {
   "cell_type": "code",
   "execution_count": 1,
   "id": "d5d3d608",
   "metadata": {},
   "outputs": [],
   "source": [
    "import os\n",
    "import sys\n",
    "sys.path.append('../')\n",
    "os.chdir('../')"
   ]
  },
  {
   "cell_type": "code",
   "execution_count": 2,
   "id": "a304d8c5",
   "metadata": {},
   "outputs": [],
   "source": [
    "import duckdb \n",
    "import pandas as pd\n",
    "import duck_db_helper"
   ]
  },
  {
   "cell_type": "code",
   "execution_count": 3,
   "id": "368814ef",
   "metadata": {},
   "outputs": [],
   "source": [
    "pd.set_option('display.max_columns', None)\n",
    "pd.set_option('display.width', 500)\n",
    "conn = duckdb.connect('../data/exploitation_zone/exploitation_zone.db')\n",
    "tables = duck_db_helper.get_tables(conn)\n",
    "df_list = []\n",
    "df_list_names = []\n",
    "for table_name in tables: \n",
    "    df = conn.sql(f\"SELECT * FROM \\\"{table_name}\\\";\").df()\n",
    "    df_list.append(df)\n",
    "    df_list_names.append(table_name)\n",
    "conn.close()"
   ]
  },
  {
   "cell_type": "code",
   "execution_count": 4,
   "id": "83ae0e6d",
   "metadata": {},
   "outputs": [
    {
     "data": {
      "text/plain": [
       "['football_matches', 'players']"
      ]
     },
     "execution_count": 4,
     "metadata": {},
     "output_type": "execute_result"
    }
   ],
   "source": [
    "df_list_names"
   ]
  },
  {
   "cell_type": "code",
   "execution_count": 5,
   "id": "5e908434",
   "metadata": {},
   "outputs": [],
   "source": [
    "dfm = df_list[0] # Matches\n",
    "dfp = df_list[1] # Players  "
   ]
  },
  {
   "cell_type": "markdown",
   "id": "c7f04897",
   "metadata": {},
   "source": [
    "# Project only the wanted columns for the analysis\n",
    "\n",
    "First we filter all unused columns that are or redundant or don't have any real value for analysis. We also remove all the betting odds and just keep an average (that was calculated in previous steps). "
   ]
  },
  {
   "cell_type": "markdown",
   "id": "bce4518e",
   "metadata": {},
   "source": [
    "## Players Projections\n",
    "We will get rid of some of the stats like fixture, kick off time and transfers"
   ]
  },
  {
   "cell_type": "code",
   "execution_count": 6,
   "id": "64bdd1da",
   "metadata": {},
   "outputs": [],
   "source": [
    "unused_players_cols = [ 'fixture', 'kickoff_time','transfers_balance','transfers_in','transfers_out']\n",
    "\n",
    "# Check if they exists before droping\n",
    "unused_players_cols = [col for col in unused_players_cols if col in dfp.columns]\n",
    "dfp = dfp.drop(unused_players_cols, axis=1)"
   ]
  },
  {
   "cell_type": "markdown",
   "id": "4b70c51f",
   "metadata": {},
   "source": [
    "## Matches Projections\n",
    "Here we will get rid of some other statics and some redundant betting odds data. "
   ]
  },
  {
   "cell_type": "code",
   "execution_count": 7,
   "id": "b7da782a",
   "metadata": {},
   "outputs": [],
   "source": [
    "unused_matches_cols = [ 'Div','Time', 'HTHG', 'HTAG', 'HTR', 'Referee',\n",
    "                           'HS', 'AS', 'HST', 'AST', 'HF', 'AF', 'HC', 'AC', 'HY', 'AY', 'HR', 'AR'\n",
    "                        ]\n",
    "unused_matches_cols = [col for col in unused_matches_cols if col in dfm.columns]\n",
    "dfm = dfm.drop(unused_matches_cols, axis=1)\n",
    "\n",
    "\n",
    "unused_matches_betting_odds = ['B365H', 'B365D', 'B365A', 'BWH', 'BWD', 'BWA', 'IWH', 'IWD', 'IWA', 'PSH', \n",
    "                        'PSD', 'PSA', 'WHH', 'WHD', 'WHA', 'VCH', 'VCD', 'VCA', 'MaxH', 'MaxD', 'MaxA',\n",
    "                        'B365>2.5', 'B365<2.5', 'P>2.5', 'P<2.5', 'Max>2.5', 'Max<2.5', \n",
    "                        'Avg>2.5', 'Avg<2.5', 'AHh', 'B365AHH', 'B365AHA', 'PAHH', 'PAHA', \n",
    "                        'MaxAHH', 'MaxAHA', 'AvgAHH', 'AvgAHA', 'B365CH', 'B365CD', 'B365CA', \n",
    "                        'BWCH', 'BWCD', 'BWCA', 'IWCH', 'IWCD', 'IWCA', 'PSCH', 'PSCD', 'PSCA', \n",
    "                        'WHCH', 'WHCD', 'WHCA', 'VCCH', 'VCCD', 'VCCA', 'MaxCH', 'MaxCD', 'MaxCA', \n",
    "                        'AvgCH', 'AvgCD', 'AvgCA', 'B365C>2.5', 'B365C<2.5', 'PC>2.5', 'PC<2.5', \n",
    "                        'MaxC>2.5', 'MaxC<2.5', 'AvgC>2.5', 'AvgC<2.5', 'AHCh', 'B365CAHH', 'B365CAHA', \n",
    "                        'PCAHH', 'PCAHA', 'MaxCAHH', 'MaxCAHA', 'AvgCAHH', 'AvgCAHA'\n",
    "                        ]\n",
    "unused_matches_betting_odds = [col for col in unused_matches_betting_odds if col in dfm.columns]\n",
    "dfm = dfm.drop(unused_matches_betting_odds, axis=1)"
   ]
  },
  {
   "cell_type": "markdown",
   "id": "5150be80",
   "metadata": {},
   "source": [
    "# Selections of the only wanted rows for the analysis\n",
    "\n",
    "## Selections on Players\n",
    "\n",
    "### Players active in the last two years (2022-2023)\n",
    "\n",
    "First we are only going to select the entries beloning of the last years as it's the only data we have on in the matches table.\n"
   ]
  },
  {
   "cell_type": "code",
   "execution_count": 8,
   "id": "9dfb82c4",
   "metadata": {},
   "outputs": [
    {
     "name": "stdout",
     "output_type": "stream",
     "text": [
      "Between 2022-01-09 00:00:00 and 2023-12-03 00:00:00\n"
     ]
    }
   ],
   "source": [
    "start = pd.to_datetime(min(dfm['Date']))\n",
    "end = pd.to_datetime(max(dfm['Date']))\n",
    "\n",
    "print(f\"Between {start} and {end}\")\n",
    "\n",
    "dfp = dfp[(dfp['match_date'] >= start) & (dfp['match_date'] <= end)]"
   ]
  },
  {
   "cell_type": "markdown",
   "id": "3668c569",
   "metadata": {},
   "source": [
    "### Players that played at least 10 minutes in 10 different matches\n",
    "\n",
    "We are going to only select the players that have played at least 10 minutes in 10 matches for this analysis. As players who played less than will probably have less robust statistics. "
   ]
  },
  {
   "cell_type": "code",
   "execution_count": 9,
   "id": "4ad8fc6e",
   "metadata": {},
   "outputs": [],
   "source": [
    "dfp_10 = dfp[dfp['minutes'] >= 10]"
   ]
  },
  {
   "cell_type": "code",
   "execution_count": 10,
   "id": "4d3b31b4",
   "metadata": {},
   "outputs": [],
   "source": [
    "name_counts = dfp_10.groupby('name').size()\n",
    "at_least_10_games = name_counts[name_counts >= 10]\n",
    "wanted_players = at_least_10_games.index.to_list()\n",
    "dfp = dfp[dfp['name'].isin(wanted_players)]"
   ]
  },
  {
   "cell_type": "markdown",
   "id": "70da7697",
   "metadata": {},
   "source": [
    "# Saving data\n",
    "We are going to save the data in in DuckDB."
   ]
  },
  {
   "cell_type": "code",
   "execution_count": 11,
   "id": "d704bed5",
   "metadata": {},
   "outputs": [],
   "source": [
    "analytical_sandbox_db = '../data/analytical_sandboxes/analytical_sandbox_zone.db'\n",
    "\n",
    "conn = duckdb.connect(analytical_sandbox_db)\n",
    "duck_db_helper.create_table('matches', dfm, conn)\n",
    "duck_db_helper.create_table('players', dfp, conn)\n",
    "conn.close()"
   ]
  },
  {
   "cell_type": "code",
   "execution_count": null,
   "id": "8d5b9b4c",
   "metadata": {},
   "outputs": [],
   "source": []
  }
 ],
 "metadata": {
  "kernelspec": {
   "display_name": "Python 3",
   "language": "python",
   "name": "python3"
  },
  "language_info": {
   "codemirror_mode": {
    "name": "ipython",
    "version": 3
   },
   "file_extension": ".py",
   "mimetype": "text/x-python",
   "name": "python",
   "nbconvert_exporter": "python",
   "pygments_lexer": "ipython3",
   "version": "3.11.7"
  }
 },
 "nbformat": 4,
 "nbformat_minor": 5
}
