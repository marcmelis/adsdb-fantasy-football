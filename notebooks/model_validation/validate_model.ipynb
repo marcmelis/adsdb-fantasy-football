{
 "cells": [
  {
   "cell_type": "code",
   "execution_count": 1,
   "metadata": {},
   "outputs": [],
   "source": [
    "import os\n",
    "import sys\n",
    "sys.path.append('../')\n",
    "os.chdir('../')"
   ]
  },
  {
   "cell_type": "code",
   "execution_count": 2,
   "metadata": {},
   "outputs": [],
   "source": [
    "import statsmodels.api as sm\n",
    "import statsmodels.formula.api as smf\n",
    "import pandas as pd\n",
    "import numpy as np\n",
    "import duck_db_helper\n",
    "import duckdb\n",
    "from datetime import date\n",
    "\n",
    "from statsmodels.iolib.smpickle import load_pickle"
   ]
  },
  {
   "cell_type": "code",
   "execution_count": 4,
   "metadata": {},
   "outputs": [],
   "source": [
    "model_name = 'model1'\n",
    "new_results = load_pickle(f\"../data/models/{model_name}.pickle\")\n",
    "\n",
    "table_name = 'test_feature_1'\n",
    "db = '../data/feature_generation/test.db'\n",
    "conn = duckdb.connect(db)\n",
    "test_df = conn.sql(f\"SELECT * FROM \\\"{table_name}\\\";\").df()\n",
    "conn.close()"
   ]
  },
  {
   "cell_type": "code",
   "execution_count": 5,
   "metadata": {},
   "outputs": [],
   "source": [
    "test_df['total_pred'] = new_results.predict(test_df)"
   ]
  },
  {
   "cell_type": "code",
   "execution_count": 7,
   "metadata": {},
   "outputs": [],
   "source": [
    "rss = np.power(test_df['total_points']-test_df['total_pred'], 2).sum()\n",
    "tss = np.power(test_df['total_points']-test_df['total_points'].mean(), 2).sum()\n",
    "rsquared = 1 - rss/tss\n",
    "\n",
    "with open('../data/models/test_registry.csv', mode='a') as f:\n",
    "    f.write(f'{str(date.today())},{model_name},{db}:{table_name},{rsquared}\\n')"
   ]
  }
 ],
 "metadata": {
  "kernelspec": {
   "display_name": "Python 3",
   "language": "python",
   "name": "python3"
  },
  "language_info": {
   "codemirror_mode": {
    "name": "ipython",
    "version": 3
   },
   "file_extension": ".py",
   "mimetype": "text/x-python",
   "name": "python",
   "nbconvert_exporter": "python",
   "pygments_lexer": "ipython3",
   "version": "3.11.7"
  }
 },
 "nbformat": 4,
 "nbformat_minor": 2
}
