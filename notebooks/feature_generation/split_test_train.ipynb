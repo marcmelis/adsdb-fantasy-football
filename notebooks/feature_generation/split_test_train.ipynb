{
 "cells": [
  {
   "cell_type": "code",
   "execution_count": 1,
   "metadata": {},
   "outputs": [],
   "source": [
    "import os\n",
    "import sys\n",
    "sys.path.append('../')\n",
    "os.chdir('../')"
   ]
  },
  {
   "cell_type": "code",
   "execution_count": 2,
   "metadata": {},
   "outputs": [],
   "source": [
    "import pandas as pd\n",
    "import duck_db_helper\n",
    "import duckdb\n",
    "from sklearn.model_selection import train_test_split"
   ]
  },
  {
   "cell_type": "code",
   "execution_count": 8,
   "metadata": {},
   "outputs": [],
   "source": [
    "pd.set_option('display.max_columns', None)\n",
    "pd.set_option('display.width', 500)\n",
    "conn = duckdb.connect('../data/feature_generation/feature_generation.db')\n",
    "tables = duck_db_helper.get_tables(conn)\n",
    "df_list = []\n",
    "df_list_names = []\n",
    "for table_name in tables: \n",
    "    df = conn.sql(f\"SELECT * FROM \\\"{table_name}\\\";\").df()\n",
    "    df_list.append(df)\n",
    "    df_list_names.append(table_name)\n",
    "conn.close()\n",
    "df = df_list[0]"
   ]
  },
  {
   "cell_type": "markdown",
   "metadata": {},
   "source": [
    "The selected model is a Multiple Linear Regression model. We want to analyse the features that affect a players performance as well as predict how a player will perform. The train/test split stratify the Player name so that each player is represented in both train and test set. "
   ]
  },
  {
   "cell_type": "code",
   "execution_count": 4,
   "metadata": {},
   "outputs": [],
   "source": [
    "X = df.drop('total_points', axis=1)  # Features (excluding the target variable)\n",
    "y = df['total_points']  # Target variable\n",
    "\n",
    "X_train, X_test, y_train, y_test = train_test_split(X, y, test_size=0.2, stratify=df['name'], random_state=42)\n",
    "# readd the target to the data\n",
    "X_train['total_points'] = y_train\n",
    "X_test['total_points'] = y_test"
   ]
  },
  {
   "cell_type": "code",
   "execution_count": 6,
   "metadata": {},
   "outputs": [],
   "source": [
    "conn = duckdb.connect('../data/feature_generation/train.db')\n",
    "duck_db_helper.create_table('train_feature_1', X_train, conn)\n",
    "conn.close()\n",
    "conn = duckdb.connect('../data/feature_generation/test.db')\n",
    "duck_db_helper.create_table('test_feature_1', X_test, conn)\n",
    "conn.close()"
   ]
  }
 ],
 "metadata": {
  "kernelspec": {
   "display_name": "Python 3",
   "language": "python",
   "name": "python3"
  },
  "language_info": {
   "codemirror_mode": {
    "name": "ipython",
    "version": 3
   },
   "file_extension": ".py",
   "mimetype": "text/x-python",
   "name": "python",
   "nbconvert_exporter": "python",
   "pygments_lexer": "ipython3",
   "version": "3.11.7"
  }
 },
 "nbformat": 4,
 "nbformat_minor": 2
}
